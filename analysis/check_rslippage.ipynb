{
 "cells": [
  {
   "cell_type": "code",
   "execution_count": 1,
   "metadata": {},
   "outputs": [],
   "source": [
    "import pandas as pd"
   ]
  },
  {
   "cell_type": "code",
   "execution_count": 74,
   "metadata": {},
   "outputs": [],
   "source": [
    "loff_fn = \"/ccb/salz4-3/hji20/hg002-q100-annotation/results/5_tidy/pat_rslippage.gff\"\n",
    "refseq_fn = \"/ccb/salz4-3/hji20/hg002-q100-annotation/results/refseq/GCA_018852605.3_hg002v1.1.pat_genomic.gff\""
   ]
  },
  {
   "cell_type": "code",
   "execution_count": 70,
   "metadata": {},
   "outputs": [],
   "source": [
    "qry_tids = [\n",
    "    \"NM_004152.3\",\n",
    "    \"NM_001301371.1\",\n",
    "    \"NM_001301020.1\",\n",
    "    \"NM_002537.3\",\n",
    "    \"NM_015068.3\",\n",
    "    \"NM_001184961.1\",\n",
    "    \"NM_001301302.1\",\n",
    "    \"NM_001134939.1\",\n",
    "    \"NM_016178.2\",\n",
    "    \"NM_001172437.2\"\n",
    "]"
   ]
  },
  {
   "cell_type": "code",
   "execution_count": 71,
   "metadata": {},
   "outputs": [],
   "source": [
    "def att2dict(s, sep) -> dict:\n",
    "    fields = s.strip().split(';')\n",
    "    att = dict()\n",
    "    for x in fields:\n",
    "        temp = x.strip().split(sep)\n",
    "        if len(temp) < 2: continue\n",
    "        k = temp[0]\n",
    "        v = temp[1]\n",
    "        att[k] = v\n",
    "    return att\n",
    "\n",
    "def load_gan_refseq(qry_tids, fn):\n",
    "    hdr = ['ctg', 'src', 'type', 'start', 'end', 'score', 'strand', 'frame', 'attributes']\n",
    "    df = pd.read_csv(fn, sep='\\t', header=None)\n",
    "    df.columns = hdr\n",
    "    gan_tbl = dict()\n",
    "    for _, row in df.iterrows():\n",
    "        if row['type'] == 'exon':\n",
    "            att_tbl = att2dict(row['attributes'], sep='=')\n",
    "            tid = att_tbl['Parent'].split('-')[1]\n",
    "            if tid in qry_tids:\n",
    "                if tid not in gan_tbl:\n",
    "                    gan_tbl[tid] = [[], []]\n",
    "                gan_tbl[tid][0].append((row['start'], row['end'], row['strand']))\n",
    "        elif row['type'] == 'CDS':\n",
    "            att_tbl = att2dict(row['attributes'], sep='=')\n",
    "            tid = att_tbl['Parent'].split('-')[1]\n",
    "            if tid in qry_tids:\n",
    "                if tid not in gan_tbl:\n",
    "                    gan_tbl[tid] = [[], []]\n",
    "                gan_tbl[tid][1].append((row['start'], row['end'], row['strand']))\n",
    "    return gan_tbl\n",
    "\n",
    "def load_gan_loff(qry_tids, fn):\n",
    "    hdr = ['ctg', 'src', 'type', 'start', 'end', 'score', 'strand', 'frame', 'attributes']\n",
    "    df = pd.read_csv(fn, sep='\\t', header=None)\n",
    "    df.columns = hdr\n",
    "    load = False\n",
    "    gan_tbl = dict()\n",
    "    for _, row in df.iterrows():\n",
    "        if row['type'] == 'transcript':\n",
    "            att_tbl = att2dict(row['attributes'], sep='=')\n",
    "            if att_tbl['origin_ID'] in qry_tids:\n",
    "                tid = att_tbl['origin_ID']\n",
    "                gan_tbl[tid] = [[], []]\n",
    "                load = True\n",
    "            else:\n",
    "                load = False\n",
    "        else:\n",
    "            if load:\n",
    "                if row['type'] == 'exon':\n",
    "                    gan_tbl[tid][0].append((row['start'], row['end'], row['strand']))\n",
    "                elif row['type'] == 'CDS':\n",
    "                    gan_tbl[tid][1].append((row['start'], row['end'], row['strand']))\n",
    "    return gan_tbl"
   ]
  },
  {
   "cell_type": "code",
   "execution_count": 76,
   "metadata": {},
   "outputs": [],
   "source": [
    "refseq_gan_tbl = load_gan_refseq(qry_tids, refseq_fn)"
   ]
  },
  {
   "cell_type": "code",
   "execution_count": 72,
   "metadata": {},
   "outputs": [],
   "source": [
    "loff_gan_tbl = load_gan_loff(qry_tids, loff_fn)"
   ]
  },
  {
   "cell_type": "code",
   "execution_count": 64,
   "metadata": {},
   "outputs": [],
   "source": [
    "def is_tx_eq(tx_1, tx_2) -> bool:\n",
    "    e_chain_1 = sorted(tx_1[0], key=lambda x: x[0], reverse=False)\n",
    "    e_chain_2 = sorted(tx_2[0], key=lambda x: x[0], reverse=False)\n",
    "    if len(e_chain_1) != len(e_chain_2): return False\n",
    "    for i in range(len(e_chain_1)):\n",
    "        e1 = e_chain_1[i]\n",
    "        e2 = e_chain_2[i]\n",
    "        if e1[0] != e2[0] or e1[1] != e2[1]:\n",
    "            return False\n",
    "    c_chain_1 = sorted(tx_1[1], key=lambda x: x[0], reverse=False)\n",
    "    c_chain_2 = sorted(tx_2[1], key=lambda x: x[0], reverse=False)\n",
    "    if len(c_chain_1) != len(c_chain_2): return False\n",
    "    for i in range(len(c_chain_1)):\n",
    "        c1 = c_chain_1[i]\n",
    "        c2 = c_chain_2[i]\n",
    "        if c1[0] != c2[0] or c1[1] != c2[1]:\n",
    "            return False\n",
    "    return True"
   ]
  },
  {
   "cell_type": "code",
   "execution_count": 77,
   "metadata": {},
   "outputs": [
    {
     "name": "stdout",
     "output_type": "stream",
     "text": [
      "NM_004152.3\tTrue\n",
      "NM_001301371.1\tTrue\n",
      "NM_001301020.1\tTrue\n",
      "NM_002537.3\tTrue\n",
      "NM_015068.3\tTrue\n",
      "NM_001184961.1\tTrue\n",
      "NM_001301302.1\tTrue\n",
      "NM_001134939.1\tTrue\n",
      "NM_016178.2\tTrue\n",
      "NM_001172437.2\tTrue\n"
     ]
    }
   ],
   "source": [
    "for tid in qry_tids:\n",
    "    assert tid in refseq_gan_tbl and tid in loff_gan_tbl\n",
    "    res = is_tx_eq(refseq_gan_tbl[tid], loff_gan_tbl[tid])\n",
    "    print(f'{tid}\\t{res}')"
   ]
  }
 ],
 "metadata": {
  "kernelspec": {
   "display_name": "Python 3 (ipykernel)",
   "language": "python",
   "name": "python3"
  },
  "language_info": {
   "codemirror_mode": {
    "name": "ipython",
    "version": 3
   },
   "file_extension": ".py",
   "mimetype": "text/x-python",
   "name": "python",
   "nbconvert_exporter": "python",
   "pygments_lexer": "ipython3",
   "version": "3.10.14"
  }
 },
 "nbformat": 4,
 "nbformat_minor": 2
}

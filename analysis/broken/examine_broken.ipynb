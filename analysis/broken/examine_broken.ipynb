{
 "cells": [
  {
   "cell_type": "code",
   "execution_count": 1,
   "id": "2cbe0ee7",
   "metadata": {},
   "outputs": [],
   "source": [
    "# imports\n",
    "\n",
    "import pyfastx\n",
    "import psa\n",
    "import os\n",
    "import pandas as pd\n",
    "from mjol import gan as mgan\n",
    "from tqdm import tqdm"
   ]
  },
  {
   "cell_type": "code",
   "execution_count": 16,
   "id": "b3894b7b",
   "metadata": {},
   "outputs": [],
   "source": [
    "in_base = \"/ccb/salz4-3/hji20/hg002-q100-annotation/results/6_add_copies\"\n",
    "out_base = \"/ccb/salz4-3/hji20/hg002-q100-annotation/results/analysis/broken\"\n",
    "MIN_PIDENT = 80.0"
   ]
  },
  {
   "cell_type": "code",
   "execution_count": 3,
   "id": "c4e43fce",
   "metadata": {},
   "outputs": [],
   "source": [
    "def is_coding_gene(f):\n",
    "    for tx in f.children:\n",
    "        for c in tx.children:\n",
    "            if c.feature_type == \"CDS\":\n",
    "                return True\n",
    "    return False"
   ]
  },
  {
   "cell_type": "markdown",
   "id": "0ec6b694",
   "metadata": {},
   "source": [
    "### Load MANE (v1.4)"
   ]
  },
  {
   "cell_type": "code",
   "execution_count": 4,
   "id": "7351b970",
   "metadata": {},
   "outputs": [],
   "source": [
    "fn = \"/ccb/salz4-3/hji20/hg002-q100-annotation/data/MANE.GRCh38.v1.4.refseq_genomic.mane_sel.noAlt.noFix.gff\"\n",
    "\n",
    "df = pd.read_csv(fn, sep='\\t', header=None)\n",
    "len(df)\n",
    "\n",
    "HDR = [\n",
    "    'chr', 'src', 'feature_type', 'start', \n",
    "    'end', 'score', 'strand', 'frame', 'attributes'\n",
    "]\n",
    "df.columns = HDR"
   ]
  },
  {
   "cell_type": "code",
   "execution_count": 5,
   "id": "959d4359",
   "metadata": {},
   "outputs": [],
   "source": [
    "for name, sub_df in df.groupby('feature_type'):\n",
    "    if name == \"CDS\":\n",
    "        mane_cds_df = sub_df"
   ]
  },
  {
   "cell_type": "code",
   "execution_count": 6,
   "id": "3b42c313",
   "metadata": {},
   "outputs": [],
   "source": [
    "mane_genes_tbl = dict()\n",
    "for _, row in mane_cds_df.iterrows():\n",
    "    temp = row['attributes'].split(';')\n",
    "    att_tbl = {x : y for x, y in [x.split('=') for x in temp]}\n",
    "    mane_genes_tbl[att_tbl['gene']] = att_tbl['Name']"
   ]
  },
  {
   "cell_type": "code",
   "execution_count": 7,
   "id": "532adcc4",
   "metadata": {},
   "outputs": [],
   "source": [
    "mane_fa = pyfastx.Fasta(\"/ccb/salz4-3/hji20/hg002-q100-annotation/data/MANE.GRCh38.v1.4.refseq_protein.faa\")"
   ]
  },
  {
   "cell_type": "markdown",
   "id": "4524d1c2",
   "metadata": {},
   "source": [
    "### Examine MAT MANE transcripts"
   ]
  },
  {
   "cell_type": "code",
   "execution_count": 8,
   "id": "539adad1",
   "metadata": {},
   "outputs": [],
   "source": [
    "wkdir = os.path.join(in_base, 'mat_loff')"
   ]
  },
  {
   "cell_type": "code",
   "execution_count": 9,
   "id": "9ecdb31e",
   "metadata": {},
   "outputs": [],
   "source": [
    "qry_fa = pyfastx.Fasta(os.path.join(wkdir, 'fmted.modified.prot.fa'))"
   ]
  },
  {
   "cell_type": "code",
   "execution_count": 10,
   "id": "d1f46493",
   "metadata": {},
   "outputs": [],
   "source": [
    "in_fn = os.path.join(wkdir, 'fmted.modified.gff')\n",
    "mat_gan = mgan.GAn(\n",
    "    file_name = in_fn,\n",
    "    file_fmt = 'gff'\n",
    ")\n",
    "mat_gan.build_db()"
   ]
  },
  {
   "cell_type": "code",
   "execution_count": 11,
   "id": "2d37ecd9",
   "metadata": {},
   "outputs": [],
   "source": [
    "mane_sel_tinfos = dict()\n",
    "mane_sel_g2t = dict()\n",
    "gid2gname = dict()\n",
    "for _, f in mat_gan.features.items():\n",
    "    if f.feature_type == \"gene\":\n",
    "        if is_coding_gene(f):\n",
    "            if f.aid:\n",
    "                gene_id = f.aid\n",
    "                if 'gene_name' not in f.attributes:\n",
    "                    print(f'gene name attribute not available for {f}')\n",
    "                    continue\n",
    "                gid2gname[gene_id] = f.attributes['gene_name']\n",
    "                for child in f.children:\n",
    "                    if not child.aid:\n",
    "                        print(f'attribute ID not available for {child}')\n",
    "                        continue\n",
    "                    if 'tag' in child.attributes and \\\n",
    "                        child.attributes['tag'] == \"MANE Select\":\n",
    "                        mane_sel_g2t[gene_id] = child.aid\n",
    "                        assert 'valid_ORF' in child.attributes\n",
    "                        if child.attributes['valid_ORF'] == \"False\":\n",
    "                            mane_sel_tinfos[child.aid] = False\n",
    "                        else:\n",
    "                            mane_sel_tinfos[child.aid] = True"
   ]
  },
  {
   "cell_type": "code",
   "execution_count": 12,
   "id": "1a50a7ed",
   "metadata": {},
   "outputs": [
    {
     "name": "stdout",
     "output_type": "stream",
     "text": [
      "84 genes w/ broken MANE\n"
     ]
    }
   ],
   "source": [
    "print(f'{len([x for x in mane_sel_tinfos.values() if not x])} genes w/ broken MANE')"
   ]
  },
  {
   "cell_type": "code",
   "execution_count": 13,
   "id": "9d3cef1e",
   "metadata": {},
   "outputs": [
    {
     "name": "stdout",
     "output_type": "stream",
     "text": [
      "19134 genes to further analyze for potential truncation\n"
     ]
    }
   ],
   "source": [
    "mane_sel_tids2align = [x for x, y in mane_sel_tinfos.items() if x]\n",
    "print(f'{len(mane_sel_tids2align)} genes to further analyze for potential truncation')"
   ]
  },
  {
   "cell_type": "code",
   "execution_count": null,
   "id": "90bc1bbf",
   "metadata": {},
   "outputs": [
    {
     "name": "stderr",
     "output_type": "stream",
     "text": [
      "100%|██████████| 19134/19134 [07:32<00:00, 42.30it/s]  \n"
     ]
    }
   ],
   "source": [
    "aligned = 0\n",
    "truncated = []\n",
    "for gene_id, tid in tqdm(mane_sel_g2t.items(), total=len(mane_sel_g2t)):\n",
    "    gene_name = gid2gname[gene_id]\n",
    "    if not mane_sel_tinfos[tid]: # no need to align\n",
    "        continue\n",
    "    if gene_name not in mane_genes_tbl:\n",
    "        continue\n",
    "    mane_pid = mane_genes_tbl[gene_name]\n",
    "    aligned += 1\n",
    "    qseq = qry_fa[tid].seq\n",
    "    sseq = mane_fa[mane_pid].seq\n",
    "    aln = psa.needle(moltype='prot', qseq=qseq, sseq=sseq)\n",
    "    if float(aln.pidentity) < MIN_PIDENT:\n",
    "        # technically, we didn't need to store tid here\n",
    "        truncated.append((gene_id, tid, aln.pidentity))"
   ]
  },
  {
   "cell_type": "code",
   "execution_count": 19,
   "id": "54774854",
   "metadata": {},
   "outputs": [],
   "source": [
    "out_fn = os.path.join(out_base, 'mat_mane_status.tsv')\n",
    "out_fh = open(out_fn, 'w')\n",
    "out_fh.write(f'gene_id\\tgene_name\\ttranscript_id\\tbroken\\tpident\\n')\n",
    "\n",
    "truncated_ginfos = { x : z for x, y, z in truncated }\n",
    "for gene_id, tid in mane_sel_g2t.items():\n",
    "    gene_name = gid2gname[gene_id]\n",
    "    if not mane_sel_tinfos[tid]:\n",
    "        out_fh.write(f'{gene_id}\\t{gene_name}\\t{tid}\\tY\\tNA\\n')\n",
    "        continue\n",
    "    if gene_name not in mane_genes_tbl:\n",
    "        out_fh.write(f'{gene_id}\\t{gene_name}\\t{tid}\\tNA\\tNA\\n')\n",
    "        continue\n",
    "    if gene_id in truncated_ginfos:\n",
    "        pident = truncated_ginfos[gene_id]\n",
    "        out_fh.write(f'{gene_id}\\t{gene_name}\\t{tid}\\tY\\t{pident}\\n')\n",
    "    else:\n",
    "        out_fh.write(f'{gene_id}\\t{gene_name}\\t{tid}\\tN\\tNA\\n')\n",
    "out_fh.close()"
   ]
  },
  {
   "cell_type": "markdown",
   "id": "5bd55300",
   "metadata": {},
   "source": [
    "### Examine PAT MANE transcripts"
   ]
  },
  {
   "cell_type": "code",
   "execution_count": 20,
   "id": "b7045e51",
   "metadata": {},
   "outputs": [],
   "source": [
    "wkdir = os.path.join(in_base, 'pat_loff')"
   ]
  },
  {
   "cell_type": "code",
   "execution_count": 21,
   "id": "0bb51c90",
   "metadata": {},
   "outputs": [],
   "source": [
    "qry_fa = pyfastx.Fasta(os.path.join(wkdir, 'fmted.modified.prot.fa'))"
   ]
  },
  {
   "cell_type": "code",
   "execution_count": 22,
   "id": "1a370244",
   "metadata": {},
   "outputs": [],
   "source": [
    "in_fn = os.path.join(wkdir, 'fmted.modified.gff')\n",
    "pat_gan = mgan.GAn(\n",
    "    file_name = in_fn,\n",
    "    file_fmt = 'gff'\n",
    ")\n",
    "pat_gan.build_db()"
   ]
  },
  {
   "cell_type": "code",
   "execution_count": 25,
   "id": "f85536db",
   "metadata": {},
   "outputs": [],
   "source": [
    "mane_sel_tinfos = dict()\n",
    "mane_sel_g2t = dict()\n",
    "gid2gname = dict()\n",
    "for _, f in pat_gan.features.items():\n",
    "    if f.feature_type == \"gene\":\n",
    "        if is_coding_gene(f):\n",
    "            if f.aid:\n",
    "                gene_id = f.aid\n",
    "                if 'gene_name' not in f.attributes:\n",
    "                    print(f'gene name attribute not available for {f}')\n",
    "                    continue\n",
    "                gid2gname[gene_id] = f.attributes['gene_name']\n",
    "                for child in f.children:\n",
    "                    if not child.aid:\n",
    "                        print(f'attribute ID not available for {child}')\n",
    "                        continue\n",
    "                    if 'tag' in child.attributes and \\\n",
    "                        child.attributes['tag'] == \"MANE Select\":\n",
    "                        mane_sel_g2t[gene_id] = child.aid\n",
    "                        assert 'valid_ORF' in child.attributes\n",
    "                        if child.attributes['valid_ORF'] == \"False\":\n",
    "                            mane_sel_tinfos[child.aid] = False\n",
    "                        else:\n",
    "                            mane_sel_tinfos[child.aid] = True"
   ]
  },
  {
   "cell_type": "code",
   "execution_count": 26,
   "id": "e5fe70af",
   "metadata": {},
   "outputs": [
    {
     "name": "stdout",
     "output_type": "stream",
     "text": [
      "75 genes w/ broken MANE\n"
     ]
    }
   ],
   "source": [
    "print(f'{len([x for x in mane_sel_tinfos.values() if not x])} genes w/ broken MANE')"
   ]
  },
  {
   "cell_type": "code",
   "execution_count": 27,
   "id": "98db168f",
   "metadata": {},
   "outputs": [
    {
     "name": "stdout",
     "output_type": "stream",
     "text": [
      "18381 genes to further analyze for potential truncation\n"
     ]
    }
   ],
   "source": [
    "mane_sel_tids2align = [x for x, y in mane_sel_tinfos.items() if x]\n",
    "print(f'{len(mane_sel_tids2align)} genes to further analyze for potential truncation')"
   ]
  },
  {
   "cell_type": "code",
   "execution_count": 28,
   "id": "114b0afe",
   "metadata": {},
   "outputs": [
    {
     "name": "stderr",
     "output_type": "stream",
     "text": [
      "100%|██████████| 18381/18381 [07:03<00:00, 43.44it/s]  \n"
     ]
    }
   ],
   "source": [
    "aligned = 0\n",
    "truncated = []\n",
    "for gene_id, tid in tqdm(mane_sel_g2t.items(), total=len(mane_sel_g2t)):\n",
    "    gene_name = gid2gname[gene_id]\n",
    "    if not mane_sel_tinfos[tid]: # no need to align\n",
    "        continue\n",
    "    if gene_name not in mane_genes_tbl:\n",
    "        continue\n",
    "    mane_pid = mane_genes_tbl[gene_name]\n",
    "    aligned += 1\n",
    "    qseq = qry_fa[tid].seq\n",
    "    sseq = mane_fa[mane_pid].seq\n",
    "    aln = psa.needle(moltype='prot', qseq=qseq, sseq=sseq)\n",
    "    if float(aln.pidentity) < MIN_PIDENT:\n",
    "        # technically, we didn't need to store tid here\n",
    "        truncated.append((gene_id, tid, aln.pidentity))"
   ]
  },
  {
   "cell_type": "code",
   "execution_count": 29,
   "id": "5f5f3ea7",
   "metadata": {},
   "outputs": [],
   "source": [
    "out_fn = os.path.join(out_base, 'pat_mane_status.tsv')\n",
    "out_fh = open(out_fn, 'w')\n",
    "out_fh.write(f'gene_id\\tgene_name\\ttranscript_id\\tbroken\\tpident\\n')\n",
    "\n",
    "truncated_ginfos = { x : z for x, y, z in truncated }\n",
    "for gene_id, tid in mane_sel_g2t.items():\n",
    "    gene_name = gid2gname[gene_id]\n",
    "    if not mane_sel_tinfos[tid]:\n",
    "        out_fh.write(f'{gene_id}\\t{gene_name}\\t{tid}\\tY\\tNA\\n')\n",
    "        continue\n",
    "    if gene_name not in mane_genes_tbl:\n",
    "        out_fh.write(f'{gene_id}\\t{gene_name}\\t{tid}\\tNA\\tNA\\n')\n",
    "        continue\n",
    "    if gene_id in truncated_ginfos:\n",
    "        pident = truncated_ginfos[gene_id]\n",
    "        out_fh.write(f'{gene_id}\\t{gene_name}\\t{tid}\\tY\\t{pident}\\n')\n",
    "    else:\n",
    "        out_fh.write(f'{gene_id}\\t{gene_name}\\t{tid}\\tN\\tNA\\n')\n",
    "out_fh.close()"
   ]
  }
 ],
 "metadata": {
  "kernelspec": {
   "display_name": "mjol",
   "language": "python",
   "name": "python3"
  },
  "language_info": {
   "codemirror_mode": {
    "name": "ipython",
    "version": 3
   },
   "file_extension": ".py",
   "mimetype": "text/x-python",
   "name": "python",
   "nbconvert_exporter": "python",
   "pygments_lexer": "ipython3",
   "version": "3.13.5"
  }
 },
 "nbformat": 4,
 "nbformat_minor": 5
}

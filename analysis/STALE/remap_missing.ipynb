{
 "cells": [
  {
   "cell_type": "code",
   "execution_count": 2,
   "id": "1f4efc41",
   "metadata": {},
   "outputs": [],
   "source": [
    "import pyfastx\n",
    "import mappy as mp\n",
    "import pandas as pd"
   ]
  },
  {
   "cell_type": "code",
   "execution_count": 11,
   "id": "12876536",
   "metadata": {},
   "outputs": [],
   "source": [
    "def load_genes(fn) -> dict:\n",
    "    df = pd.read_csv(fn, sep='\\t', header=None)\n",
    "    df.columns = ['ctg', 'start', 'end', 'strand', 'gene_name']\n",
    "    ginfos = dict()\n",
    "    for _, row in df.iterrows():\n",
    "        ginfos[row['gene_name']] = (row['ctg'], row['strand'], int(row['start']), int(row['end']))\n",
    "    return ginfos"
   ]
  },
  {
   "cell_type": "code",
   "execution_count": 4,
   "id": "13e25c44",
   "metadata": {},
   "outputs": [],
   "source": [
    "hg38_genome = pyfastx.Fasta(\"/ccb/salz4-3/hji20/hg002-q100-annotation/data/hg38_p12_ucsc.fa\")"
   ]
  },
  {
   "cell_type": "code",
   "execution_count": 12,
   "id": "e5d61fd8",
   "metadata": {},
   "outputs": [],
   "source": [
    "ginfos = load_genes(\"/ccb/salz4-3/hji20/hg002-q100-annotation/data/giab/chess3.1.1_genes.bed\")"
   ]
  },
  {
   "cell_type": "code",
   "execution_count": 6,
   "id": "05d48bb0",
   "metadata": {},
   "outputs": [],
   "source": [
    "a = mp.Aligner(\"/ccb/salz4-3/hji20/hg002-q100-annotation/data/hg002v1.1.fasta\")"
   ]
  },
  {
   "cell_type": "code",
   "execution_count": 7,
   "id": "d2498b08",
   "metadata": {},
   "outputs": [],
   "source": [
    "out_fn = \"/ccb/salz4-3/hji20/hg002-q100-annotation/data/giab/chess3.1.1_genes2hg002.aln\""
   ]
  },
  {
   "cell_type": "code",
   "execution_count": 13,
   "id": "00a89ff0",
   "metadata": {},
   "outputs": [
    {
     "name": "stdout",
     "output_type": "stream",
     "text": [
      "CBS\n",
      "CCL3L1\n",
      "CRYAA\n",
      "TAS2R45\n",
      "U2AF1\n",
      "KCNE1\n"
     ]
    }
   ],
   "source": [
    "with open(out_fn, 'w') as fh:\n",
    "    fh.write('gene_name\\tctg\\tstart\\tend\\tstrand\\tcigar\\n')\n",
    "    for gene in ginfos:\n",
    "        print(gene)\n",
    "        ctg, strand, start, end = ginfos[gene]\n",
    "        if strand == '+':\n",
    "            s = hg38_genome[ctg][start:end].seq\n",
    "        else:\n",
    "            s = hg38_genome[ctg][start:end].antisense\n",
    "        for hit in a.map(s):\n",
    "            a_strand = '+' if hit.strand == 1 else '-'\n",
    "            fh.write(f'{gene}\\t{hit.ctg}\\t{hit.r_st}\\t{hit.r_en}\\t{a_strand}\\t{hit.cigar_str}\\n')"
   ]
  }
 ],
 "metadata": {
  "kernelspec": {
   "display_name": "Python [conda env:hg002] *",
   "language": "python",
   "name": "conda-env-hg002-py"
  },
  "language_info": {
   "codemirror_mode": {
    "name": "ipython",
    "version": 3
   },
   "file_extension": ".py",
   "mimetype": "text/x-python",
   "name": "python",
   "nbconvert_exporter": "python",
   "pygments_lexer": "ipython3",
   "version": "3.9.19"
  }
 },
 "nbformat": 4,
 "nbformat_minor": 5
}

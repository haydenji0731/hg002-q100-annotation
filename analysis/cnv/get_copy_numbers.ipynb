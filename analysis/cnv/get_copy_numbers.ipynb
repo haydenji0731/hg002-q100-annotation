{
 "cells": [
  {
   "cell_type": "code",
   "execution_count": 4,
   "id": "7a5692ef",
   "metadata": {},
   "outputs": [],
   "source": [
    "from mjol import gan as mgan\n",
    "from collections import defaultdict\n",
    "import os"
   ]
  },
  {
   "cell_type": "code",
   "execution_count": 5,
   "id": "5ec59cfb",
   "metadata": {},
   "outputs": [],
   "source": [
    "fn = \"/ccb/salz4-3/hji20/hg002-q100-annotation/results/6_add_copies/mat_loff/fmted.modified.gff\"\n",
    "gan = mgan.GAn(\n",
    "    file_name = fn,\n",
    "    file_fmt = 'gff'\n",
    ")\n",
    "gan.build_db()"
   ]
  },
  {
   "cell_type": "code",
   "execution_count": 6,
   "id": "2d7ff47f",
   "metadata": {},
   "outputs": [],
   "source": [
    "def is_coding_gene(f):\n",
    "    for tx in f.children:\n",
    "        for c in tx.children:\n",
    "            if c.feature_type == \"CDS\":\n",
    "                return True\n",
    "    return False"
   ]
  },
  {
   "cell_type": "code",
   "execution_count": 7,
   "id": "c9bb8457",
   "metadata": {},
   "outputs": [],
   "source": [
    "copy_numbers_by_gname = defaultdict(int)\n",
    "gene_chrs = {}\n",
    "for uid, f in gan.features.items():\n",
    "    if f.feature_type == \"gene\":\n",
    "        if is_coding_gene(f):\n",
    "            if 'gene_name' in f.attributes:\n",
    "                gname = f.attributes['gene_name']\n",
    "                copy_numbers_by_gname[gname] += 1\n",
    "                if gname in gene_chrs:\n",
    "                    gene_chrs[gname].append(f.chr)\n",
    "                else:\n",
    "                    gene_chrs[gname] = [f.chr]\n",
    "            else:\n",
    "                print(f)"
   ]
  },
  {
   "cell_type": "code",
   "execution_count": 5,
   "id": "996d69d5",
   "metadata": {},
   "outputs": [],
   "source": [
    "fn = \"/ccb/salz4-3/hji20/hg002-q100-annotation/results/6_add_copies/pat_loff/fmted.modified.gff\"\n",
    "\n",
    "gan2 = mgan.GAn(\n",
    "    file_name = fn,\n",
    "    file_fmt = 'gff'\n",
    ")\n",
    "gan2.build_db()"
   ]
  },
  {
   "cell_type": "code",
   "execution_count": 9,
   "id": "111048fd",
   "metadata": {},
   "outputs": [],
   "source": [
    "copy_numbers_by_gname2 = defaultdict(int)\n",
    "gene_chrs2 = {}\n",
    "for uid, f in gan2.features.items():\n",
    "    if f.feature_type == \"gene\":\n",
    "        if is_coding_gene(f):\n",
    "            if 'gene_name' in f.attributes:\n",
    "                gname = f.attributes['gene_name']\n",
    "                copy_numbers_by_gname2[gname] += 1\n",
    "                if gname in gene_chrs2:\n",
    "                    gene_chrs2[gname].append(f.chr)\n",
    "                else:\n",
    "                    gene_chrs2[gname] = [f.chr]\n",
    "            else:\n",
    "                print(f)"
   ]
  },
  {
   "cell_type": "code",
   "execution_count": 17,
   "id": "126b0e43",
   "metadata": {},
   "outputs": [],
   "source": [
    "union_gnames = set(copy_numbers_by_gname.keys()).union(set(copy_numbers_by_gname2.keys()))\n",
    "\n",
    "out_fn = \"/ccb/salz4-3/hji20/hg002-q100-annotation/results/analysis/copy_numbers.tsv\"\n",
    "with open(out_fn, 'w') as fh:\n",
    "    fh.write(f'gene_name\\tnum_m\\tchroms_m\\tpat\\tnum_p\\n')\n",
    "    for gname in union_gnames:\n",
    "        s = f'{gname}\\t'\n",
    "        if gname not in copy_numbers_by_gname:\n",
    "            s += '0\\tNone\\t'\n",
    "        else:\n",
    "            s += f'{copy_numbers_by_gname[gname]}\\t{','.join(gene_chrs[gname])}\\t'\n",
    "        \n",
    "        if gname not in copy_numbers_by_gname2:\n",
    "            s += '0\\tNone'\n",
    "        else:\n",
    "            s += f'{copy_numbers_by_gname2[gname]}\\t{','.join(gene_chrs2[gname])}'\n",
    "        fh.write(s + '\\n')"
   ]
  }
 ],
 "metadata": {
  "kernelspec": {
   "display_name": "mjol",
   "language": "python",
   "name": "python3"
  },
  "language_info": {
   "codemirror_mode": {
    "name": "ipython",
    "version": 3
   },
   "file_extension": ".py",
   "mimetype": "text/x-python",
   "name": "python",
   "nbconvert_exporter": "python",
   "pygments_lexer": "ipython3",
   "version": "3.13.5"
  }
 },
 "nbformat": 4,
 "nbformat_minor": 5
}

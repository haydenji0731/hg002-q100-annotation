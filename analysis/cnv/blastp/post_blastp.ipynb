{
 "cells": [
  {
   "cell_type": "code",
   "execution_count": 37,
   "id": "8c37f4f4",
   "metadata": {},
   "outputs": [],
   "source": [
    "COLS = [\n",
    "    \"qseqid\",\n",
    "    \"sseqid\",\n",
    "    \"pident\",\n",
    "    \"length\",\n",
    "    \"mismatch\",\n",
    "    \"gapopen\",\n",
    "    \"qstart\",\n",
    "    \"qend\",\n",
    "    \"sstart\",\n",
    "    \"send\",\n",
    "    \"evalue\",\n",
    "    \"bitscore\",\n",
    "    \"slen\",\n",
    "    \"qlen\"\n",
    "]"
   ]
  },
  {
   "cell_type": "code",
   "execution_count": 38,
   "id": "f3c6c37f",
   "metadata": {},
   "outputs": [],
   "source": [
    "# imports\n",
    "\n",
    "import pandas as pd\n",
    "import os"
   ]
  },
  {
   "cell_type": "code",
   "execution_count": 39,
   "id": "dc9caef0",
   "metadata": {},
   "outputs": [],
   "source": [
    "in_base = \"/ccb/salz4-3/hji20/hg002-q100-annotation/results/analysis/blastp\""
   ]
  },
  {
   "cell_type": "code",
   "execution_count": 40,
   "id": "d0d75222",
   "metadata": {},
   "outputs": [],
   "source": [
    "def find_close_matches(\n",
    "    fn : str,\n",
    "    eval_cutoff : float = 1e-20,\n",
    "    min_pident : float = 90.0,\n",
    "    min_qcov : float = 0.9,\n",
    "    min_scov : float = 0.9\n",
    "):\n",
    "    df = pd.read_csv(fn, sep='\\t', header=None)\n",
    "    df.columns = COLS\n",
    "    close_matches = set()\n",
    "    max_pident = -1\n",
    "    for _, row in df.iterrows():\n",
    "        if float(row['evalue']) > eval_cutoff:\n",
    "            continue\n",
    "        pident = float(row['pident'])\n",
    "        if pident < min_pident:\n",
    "            continue\n",
    "        if pident > max_pident:\n",
    "            max_pident = pident\n",
    "        sid = row['sseqid']\n",
    "        qcov = (int(row['qend']) - int(row['qstart'])) / int(row['qlen'])\n",
    "        scov = (int(row['send']) - int(row['sstart'])) / int(row['slen'])\n",
    "        if qcov > min_qcov and scov > min_scov:\n",
    "            close_matches.add(sid.split('.')[0])\n",
    "    return close_matches, max_pident"
   ]
  },
  {
   "cell_type": "markdown",
   "id": "b51f5f1e",
   "metadata": {},
   "source": [
    "### Process MAT search results"
   ]
  },
  {
   "cell_type": "code",
   "execution_count": 46,
   "id": "c684a11c",
   "metadata": {},
   "outputs": [],
   "source": [
    "wkdir = os.path.join(in_base, 'mat_loff')"
   ]
  },
  {
   "cell_type": "code",
   "execution_count": 47,
   "id": "bc0b7922",
   "metadata": {},
   "outputs": [
    {
     "name": "stdout",
     "output_type": "stream",
     "text": [
      "24 query genes loaded\n"
     ]
    }
   ],
   "source": [
    "fn = os.path.join(in_base, 'mat_only.auto.tsv')\n",
    "qry_df = pd.read_csv(fn, sep='\\t', header=None)\n",
    "qry_df.columns = [\n",
    "    'gene_name',\n",
    "    'gene_ids'\n",
    "]\n",
    "\n",
    "qry_infos = {}\n",
    "for _, row in qry_df.iterrows():\n",
    "    qry_infos[row['gene_name']] = row['gene_ids'].split(',')\n",
    "\n",
    "print(f'{len(qry_infos)} query genes loaded')"
   ]
  },
  {
   "cell_type": "code",
   "execution_count": 48,
   "id": "847065a1",
   "metadata": {},
   "outputs": [
    {
     "name": "stdout",
     "output_type": "stream",
     "text": [
      "empty search results for LOC124900189\n"
     ]
    }
   ],
   "source": [
    "out_fn = os.path.join(in_base, 'mat_only.auto.close_matches.tsv')\n",
    "out_fh = open(out_fn, 'w')\n",
    "out_fh.write(f'gene_name\\tclose_match_gene_ids\\tmax_pident\\n')\n",
    "\n",
    "for gene_name, gene_ids in qry_infos.items():\n",
    "    in_fn = os.path.join(wkdir, f'{gene_name}_mat.blastp.out')\n",
    "    if not os.path.exists(in_fn):\n",
    "        out_fh.write(f'{gene_name}\\tNone\\tNA\\n')\n",
    "        print(f'no search results file for {gene_name}')\n",
    "        continue\n",
    "    if os.path.getsize(in_fn) == 0:\n",
    "        out_fh.write(f'{gene_name}\\tNone\\tNA\\n')\n",
    "        print(f'empty search results for {gene_name}')\n",
    "        continue\n",
    "    close_matches, max_pident = find_close_matches(in_fn)\n",
    "    if len(close_matches) == 0:\n",
    "        out_fh.write(f'{gene_name}\\tNone\\tNA\\n')\n",
    "    else:\n",
    "        out_fh.write(f'{gene_name}\\t{\",\".join(list(close_matches))}\\t{max_pident}\\n')\n",
    "out_fh.close()"
   ]
  },
  {
   "cell_type": "markdown",
   "id": "38468478",
   "metadata": {},
   "source": [
    "### Process PAT search results"
   ]
  },
  {
   "cell_type": "code",
   "execution_count": 50,
   "id": "fcb7afe9",
   "metadata": {},
   "outputs": [],
   "source": [
    "wkdir = os.path.join(in_base, 'pat_loff')"
   ]
  },
  {
   "cell_type": "code",
   "execution_count": 51,
   "id": "4b7e9bf7",
   "metadata": {},
   "outputs": [
    {
     "name": "stdout",
     "output_type": "stream",
     "text": [
      "31 query genes loaded\n"
     ]
    }
   ],
   "source": [
    "fn = os.path.join(in_base, 'pat_only.auto.tsv')\n",
    "qry_df = pd.read_csv(fn, sep='\\t', header=None)\n",
    "qry_df.columns = [\n",
    "    'gene_name',\n",
    "    'gene_ids'\n",
    "]\n",
    "\n",
    "qry_infos = {}\n",
    "for _, row in qry_df.iterrows():\n",
    "    qry_infos[row['gene_name']] = row['gene_ids'].split(',')\n",
    "\n",
    "print(f'{len(qry_infos)} query genes loaded')"
   ]
  },
  {
   "cell_type": "code",
   "execution_count": 52,
   "id": "2e63db32",
   "metadata": {},
   "outputs": [],
   "source": [
    "out_fn = os.path.join(in_base, 'pat_only.auto.close_matches.tsv')\n",
    "out_fh = open(out_fn, 'w')\n",
    "out_fh.write(f'gene_name\\tclose_match_gene_ids\\tmax_pident\\n')\n",
    "\n",
    "for gene_name, gene_ids in qry_infos.items():\n",
    "    in_fn = os.path.join(wkdir, f'{gene_name}_pat.blastp.out')\n",
    "    if not os.path.exists(in_fn):\n",
    "        out_fh.write(f'{gene_name}\\tNone\\tNA\\n')\n",
    "        print(f'no search results file for {gene_name}')\n",
    "        continue\n",
    "    if os.path.getsize(in_fn) == 0:\n",
    "        out_fh.write(f'{gene_name}\\tNone\\tNA\\n')\n",
    "        print(f'empty search results for {gene_name}')\n",
    "        continue\n",
    "    close_matches, max_pident = find_close_matches(in_fn)\n",
    "    if len(close_matches) == 0:\n",
    "        out_fh.write(f'{gene_name}\\tNone\\tNA\\n')\n",
    "    else:\n",
    "        out_fh.write(f'{gene_name}\\t{\",\".join(list(close_matches))}\\t{max_pident}\\n')\n",
    "out_fh.close()"
   ]
  }
 ],
 "metadata": {
  "kernelspec": {
   "display_name": "hg002",
   "language": "python",
   "name": "python3"
  },
  "language_info": {
   "codemirror_mode": {
    "name": "ipython",
    "version": 3
   },
   "file_extension": ".py",
   "mimetype": "text/x-python",
   "name": "python",
   "nbconvert_exporter": "python",
   "pygments_lexer": "ipython3",
   "version": "3.9.19"
  }
 },
 "nbformat": 4,
 "nbformat_minor": 5
}

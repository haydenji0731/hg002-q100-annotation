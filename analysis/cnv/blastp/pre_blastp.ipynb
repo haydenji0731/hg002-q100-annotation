{
 "cells": [
  {
   "cell_type": "code",
   "execution_count": 1,
   "id": "e27d897e",
   "metadata": {},
   "outputs": [],
   "source": [
    "import pandas as pd\n",
    "import os\n",
    "import pyfastx"
   ]
  },
  {
   "cell_type": "code",
   "execution_count": 2,
   "id": "6a726de9",
   "metadata": {},
   "outputs": [],
   "source": [
    "wkdir = \"/ccb/salz4-3/hji20/hg002-q100-annotation/results/6_add_copies\"\n",
    "out_base = \"/ccb/salz4-3/hji20/hg002-q100-annotation/results/analysis/blastp\""
   ]
  },
  {
   "cell_type": "markdown",
   "id": "6d677f97",
   "metadata": {},
   "source": [
    "### Prepare MAT fasta files"
   ]
  },
  {
   "cell_type": "code",
   "execution_count": 3,
   "id": "c39c3b20",
   "metadata": {},
   "outputs": [],
   "source": [
    "out_dir = os.path.join(out_base, 'mat_loff')"
   ]
  },
  {
   "cell_type": "code",
   "execution_count": 4,
   "id": "042cddfb",
   "metadata": {},
   "outputs": [],
   "source": [
    "fa = pyfastx.Fasta(os.path.join(wkdir, 'mat_loff/fmted.modified.prot.fa'))"
   ]
  },
  {
   "cell_type": "code",
   "execution_count": 8,
   "id": "8186f4fa",
   "metadata": {},
   "outputs": [
    {
     "name": "stdout",
     "output_type": "stream",
     "text": [
      "24 query genes loaded\n"
     ]
    }
   ],
   "source": [
    "fn = os.path.join(out_base, 'mat_only.auto.tsv')\n",
    "qry_df = pd.read_csv(fn, sep='\\t', header=None)\n",
    "qry_df.columns = [\n",
    "    'gene_name',\n",
    "    'gene_ids'\n",
    "]\n",
    "\n",
    "qry_infos = {}\n",
    "for _, row in qry_df.iterrows():\n",
    "    qry_infos[row['gene_name']] = row['gene_ids'].split(',')\n",
    "\n",
    "print(f'{len(qry_infos)} query genes loaded')"
   ]
  },
  {
   "cell_type": "code",
   "execution_count": 10,
   "id": "d27d2276",
   "metadata": {},
   "outputs": [],
   "source": [
    "for gene_name, gene_ids in qry_infos.items():\n",
    "    out_fn = os.path.join(out_dir, f'{gene_name}_mat.fa')\n",
    "    out_fh = open(out_fn, 'w')\n",
    "    for ent in fa:\n",
    "        if ent.name.split('.')[0] in gene_ids:\n",
    "            out_fh.write(ent.raw)\n",
    "    out_fh.close()"
   ]
  },
  {
   "cell_type": "markdown",
   "id": "c0c40593",
   "metadata": {},
   "source": [
    "### Prepare PAT fasta files"
   ]
  },
  {
   "cell_type": "code",
   "execution_count": 11,
   "id": "efcf5d94",
   "metadata": {},
   "outputs": [],
   "source": [
    "out_dir = os.path.join(out_base, 'pat_loff')"
   ]
  },
  {
   "cell_type": "code",
   "execution_count": 12,
   "id": "242156c5",
   "metadata": {},
   "outputs": [],
   "source": [
    "fa = pyfastx.Fasta(os.path.join(wkdir, 'pat_loff/fmted.modified.prot.fa'))"
   ]
  },
  {
   "cell_type": "code",
   "execution_count": 14,
   "id": "d5a16568",
   "metadata": {},
   "outputs": [
    {
     "name": "stdout",
     "output_type": "stream",
     "text": [
      "31 query genes loaded\n"
     ]
    }
   ],
   "source": [
    "fn = os.path.join(out_base, 'pat_only.auto.tsv')\n",
    "qry_df = pd.read_csv(fn, sep='\\t', header=None)\n",
    "\n",
    "qry_df.columns = [\n",
    "    'gene_name',\n",
    "    'gene_ids'\n",
    "]\n",
    "qry_infos = {}\n",
    "\n",
    "for _, row in qry_df.iterrows():\n",
    "    qry_infos[row['gene_name']] = row['gene_ids'].split(',')\n",
    "\n",
    "print(f'{len(qry_infos)} query genes loaded')"
   ]
  },
  {
   "cell_type": "code",
   "execution_count": 15,
   "id": "79f300f8",
   "metadata": {},
   "outputs": [],
   "source": [
    "for gene_name, gene_ids in qry_infos.items():\n",
    "    out_fn = os.path.join(out_dir, f'{gene_name}_pat.fa')\n",
    "    out_fh = open(out_fn, 'w')\n",
    "    for ent in fa:\n",
    "        if ent.name.split('.')[0] in gene_ids:\n",
    "            out_fh.write(ent.raw)\n",
    "    out_fh.close()"
   ]
  }
 ],
 "metadata": {
  "kernelspec": {
   "display_name": "hg002",
   "language": "python",
   "name": "python3"
  },
  "language_info": {
   "codemirror_mode": {
    "name": "ipython",
    "version": 3
   },
   "file_extension": ".py",
   "mimetype": "text/x-python",
   "name": "python",
   "nbconvert_exporter": "python",
   "pygments_lexer": "ipython3",
   "version": "3.9.19"
  }
 },
 "nbformat": 4,
 "nbformat_minor": 5
}

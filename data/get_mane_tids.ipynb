{
 "cells": [
  {
   "cell_type": "code",
   "execution_count": 1,
   "metadata": {},
   "outputs": [],
   "source": [
    "import pandas as pd"
   ]
  },
  {
   "cell_type": "code",
   "execution_count": 3,
   "metadata": {},
   "outputs": [
    {
     "data": {
      "text/html": [
       "<div>\n",
       "<style scoped>\n",
       "    .dataframe tbody tr th:only-of-type {\n",
       "        vertical-align: middle;\n",
       "    }\n",
       "\n",
       "    .dataframe tbody tr th {\n",
       "        vertical-align: top;\n",
       "    }\n",
       "\n",
       "    .dataframe thead th {\n",
       "        text-align: right;\n",
       "    }\n",
       "</style>\n",
       "<table border=\"1\" class=\"dataframe\">\n",
       "  <thead>\n",
       "    <tr style=\"text-align: right;\">\n",
       "      <th></th>\n",
       "      <th>ctg</th>\n",
       "      <th>src</th>\n",
       "      <th>type</th>\n",
       "      <th>start</th>\n",
       "      <th>end</th>\n",
       "      <th>score</th>\n",
       "      <th>strand</th>\n",
       "      <th>frame</th>\n",
       "      <th>attributes</th>\n",
       "    </tr>\n",
       "  </thead>\n",
       "  <tbody>\n",
       "    <tr>\n",
       "      <th>0</th>\n",
       "      <td>chr1</td>\n",
       "      <td>BestRefSeq</td>\n",
       "      <td>mRNA</td>\n",
       "      <td>65419</td>\n",
       "      <td>71585</td>\n",
       "      <td>.</td>\n",
       "      <td>+</td>\n",
       "      <td>.</td>\n",
       "      <td>ID=rna-NM_001005484.2;Parent=gene-OR4F5;Dbxref...</td>\n",
       "    </tr>\n",
       "    <tr>\n",
       "      <th>1</th>\n",
       "      <td>chr1</td>\n",
       "      <td>BestRefSeq</td>\n",
       "      <td>exon</td>\n",
       "      <td>65419</td>\n",
       "      <td>65433</td>\n",
       "      <td>.</td>\n",
       "      <td>+</td>\n",
       "      <td>.</td>\n",
       "      <td>ID=exon-NM_001005484.2-1;Parent=rna-NM_0010054...</td>\n",
       "    </tr>\n",
       "    <tr>\n",
       "      <th>2</th>\n",
       "      <td>chr1</td>\n",
       "      <td>BestRefSeq</td>\n",
       "      <td>exon</td>\n",
       "      <td>65520</td>\n",
       "      <td>65573</td>\n",
       "      <td>.</td>\n",
       "      <td>+</td>\n",
       "      <td>.</td>\n",
       "      <td>ID=exon-NM_001005484.2-2;Parent=rna-NM_0010054...</td>\n",
       "    </tr>\n",
       "    <tr>\n",
       "      <th>3</th>\n",
       "      <td>chr1</td>\n",
       "      <td>BestRefSeq</td>\n",
       "      <td>exon</td>\n",
       "      <td>69037</td>\n",
       "      <td>71585</td>\n",
       "      <td>.</td>\n",
       "      <td>+</td>\n",
       "      <td>.</td>\n",
       "      <td>ID=exon-NM_001005484.2-3;Parent=rna-NM_0010054...</td>\n",
       "    </tr>\n",
       "    <tr>\n",
       "      <th>4</th>\n",
       "      <td>chr1</td>\n",
       "      <td>BestRefSeq</td>\n",
       "      <td>CDS</td>\n",
       "      <td>65565</td>\n",
       "      <td>65573</td>\n",
       "      <td>.</td>\n",
       "      <td>+</td>\n",
       "      <td>0</td>\n",
       "      <td>ID=cds-NP_001005484.2;Parent=rna-NM_001005484....</td>\n",
       "    </tr>\n",
       "  </tbody>\n",
       "</table>\n",
       "</div>"
      ],
      "text/plain": [
       "    ctg         src  type  start    end score strand frame  \\\n",
       "0  chr1  BestRefSeq  mRNA  65419  71585     .      +     .   \n",
       "1  chr1  BestRefSeq  exon  65419  65433     .      +     .   \n",
       "2  chr1  BestRefSeq  exon  65520  65573     .      +     .   \n",
       "3  chr1  BestRefSeq  exon  69037  71585     .      +     .   \n",
       "4  chr1  BestRefSeq   CDS  65565  65573     .      +     0   \n",
       "\n",
       "                                          attributes  \n",
       "0  ID=rna-NM_001005484.2;Parent=gene-OR4F5;Dbxref...  \n",
       "1  ID=exon-NM_001005484.2-1;Parent=rna-NM_0010054...  \n",
       "2  ID=exon-NM_001005484.2-2;Parent=rna-NM_0010054...  \n",
       "3  ID=exon-NM_001005484.2-3;Parent=rna-NM_0010054...  \n",
       "4  ID=cds-NP_001005484.2;Parent=rna-NM_001005484....  "
      ]
     },
     "execution_count": 3,
     "metadata": {},
     "output_type": "execute_result"
    }
   ],
   "source": [
    "df = pd.read_csv('/ccb/salz4-3/hji20/hg002-q100-annotation/data/MANE.GRCh38.v1.4.refseq_genomic.mane_sel.noAlt.noFix.gff', sep='\\t', header=None)\n",
    "hdr = ['ctg', 'src', 'type', 'start', 'end', 'score', 'strand', 'frame', 'attributes']\n",
    "df.columns = hdr\n",
    "df.head()"
   ]
  },
  {
   "cell_type": "code",
   "execution_count": 6,
   "metadata": {},
   "outputs": [
    {
     "name": "stdout",
     "output_type": "stream",
     "text": [
      "19226\n"
     ]
    }
   ],
   "source": [
    "mane_tids = set()\n",
    "for _, row in df.iterrows():\n",
    "    if row['type'] == 'mRNA':\n",
    "        temp = row['attributes'].split(';')\n",
    "        for x in temp:\n",
    "            kv_pair = x.strip().split('=')\n",
    "            if kv_pair[0] == 'ID':\n",
    "                tid = kv_pair[1].split('-')[1]\n",
    "                mane_tids.add(tid)\n",
    "print(len(mane_tids))"
   ]
  },
  {
   "cell_type": "code",
   "execution_count": 7,
   "metadata": {},
   "outputs": [],
   "source": [
    "out_fn = \"/ccb/salz4-3/hji20/hg002-q100-annotation/data/MANE.GRCh38.v1.4.refseq_genomic.mane_sel.noAlt.noFix.tids.txt\"\n",
    "with open(out_fn, 'w') as fh:\n",
    "    for tid in mane_tids:\n",
    "        fh.write(f'{tid}\\n')"
   ]
  }
 ],
 "metadata": {
  "kernelspec": {
   "display_name": "Python 3 (ipykernel)",
   "language": "python",
   "name": "python3"
  },
  "language_info": {
   "codemirror_mode": {
    "name": "ipython",
    "version": 3
   },
   "file_extension": ".py",
   "mimetype": "text/x-python",
   "name": "python",
   "nbconvert_exporter": "python",
   "pygments_lexer": "ipython3",
   "version": "3.10.14"
  }
 },
 "nbformat": 4,
 "nbformat_minor": 2
}

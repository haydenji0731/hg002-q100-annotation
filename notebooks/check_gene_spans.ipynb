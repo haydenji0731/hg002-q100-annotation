{
 "cells": [
  {
   "cell_type": "code",
   "execution_count": 22,
   "metadata": {},
   "outputs": [],
   "source": [
    "import pandas as pd"
   ]
  },
  {
   "cell_type": "code",
   "execution_count": 23,
   "metadata": {},
   "outputs": [],
   "source": [
    "def att2dict(s, sep) -> dict:\n",
    "    fields = s.strip().split(';')\n",
    "    att = dict()\n",
    "    for x in fields:\n",
    "        temp = x.strip().split(sep)\n",
    "        if len(temp) < 2: continue\n",
    "        k = temp[0]\n",
    "        v = temp[1]\n",
    "        att[k] = v\n",
    "    return att\n",
    "\n",
    "def load_fix_report(fn) -> dict:\n",
    "    df = pd.read_csv(fn, sep='\\t')\n",
    "    fixed_gene_spans = dict()\n",
    "    for _, row in df.iterrows():\n",
    "        gid = row['GeneID']\n",
    "        assert gid not in fixed_gene_spans\n",
    "        fixed_gene_spans[gid] = (int(row['NewStart']), int(row['NewEnd']))\n",
    "    return fixed_gene_spans\n",
    "\n",
    "def load_gene_spans(fn) -> dict:\n",
    "    hdr = ['ctg', 'src', 'type', 'start', 'end', 'score', 'strand', 'frame', 'attributes']\n",
    "    df = pd.read_csv(fn, sep='\\t', header=None, comment='#')\n",
    "    df.columns = hdr\n",
    "    gene_spans = dict()\n",
    "    for _, row in df.iterrows():\n",
    "        if row['type'] == 'gene':\n",
    "            att_tbl = att2dict(row['attributes'], sep='=')\n",
    "            gid = att_tbl['ID']\n",
    "            assert gid not in gene_spans\n",
    "            gene_spans[gid] = (int(row['start']), int(row['end']))\n",
    "    return gene_spans"
   ]
  },
  {
   "cell_type": "code",
   "execution_count": 39,
   "metadata": {},
   "outputs": [],
   "source": [
    "fixed_fn = \"/ccb/salz2/kh.chao/LiftOn_HG002/results/HG002_MAT/miniprot_new_copies/gene_fix_report.txt\"\n",
    "fixed_gene_spans = load_fix_report(fixed_fn)"
   ]
  },
  {
   "cell_type": "code",
   "execution_count": 40,
   "metadata": {},
   "outputs": [],
   "source": [
    "curr_fn = \"/ccb/salz4-3/hji20/hg002-q100-annotation/results/5_tidy/mat_loff/post_swap/final.sorted.fmted.gff\"\n",
    "curr_gene_spans = load_gene_spans(curr_fn)"
   ]
  },
  {
   "cell_type": "code",
   "execution_count": 41,
   "metadata": {},
   "outputs": [
    {
     "name": "stdout",
     "output_type": "stream",
     "text": [
      "140\n"
     ]
    }
   ],
   "source": [
    "diff_tbl = dict()\n",
    "for gid in fixed_gene_spans:\n",
    "    gstart, gend = fixed_gene_spans[gid]\n",
    "    if gstart != curr_gene_spans[gid][0] or gend != curr_gene_spans[gid][1]:\n",
    "        diff_tbl[gid] = (gstart, gend, curr_gene_spans[gid][0], curr_gene_spans[gid][1])\n",
    "print(len(diff_tbl))"
   ]
  },
  {
   "cell_type": "code",
   "execution_count": 42,
   "metadata": {},
   "outputs": [],
   "source": [
    "out_fn = \"/ccb/salz4-3/hji20/hg002-q100-annotation/results/5_tidy/mat_loff/post_swap/kh_diff.csv\"\n",
    "with open(out_fn, 'w') as fh:\n",
    "    fh.write(f'gene_id,start_old,end_old,start_new,end_new\\n')\n",
    "    for gid in diff_tbl:\n",
    "        res = diff_tbl[gid]\n",
    "        fh.write(f'{gid},{res[0]},{res[1]},{res[2]},{res[3]}\\n')"
   ]
  }
 ],
 "metadata": {
  "kernelspec": {
   "display_name": "Python 3 (ipykernel)",
   "language": "python",
   "name": "python3"
  },
  "language_info": {
   "codemirror_mode": {
    "name": "ipython",
    "version": 3
   },
   "file_extension": ".py",
   "mimetype": "text/x-python",
   "name": "python",
   "nbconvert_exporter": "python",
   "pygments_lexer": "ipython3",
   "version": "3.10.14"
  }
 },
 "nbformat": 4,
 "nbformat_minor": 2
}

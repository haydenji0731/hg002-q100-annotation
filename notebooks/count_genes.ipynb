{
 "cells": [
  {
   "cell_type": "code",
   "execution_count": 1,
   "id": "dd5b815e",
   "metadata": {},
   "outputs": [],
   "source": [
    "import pandas as pd"
   ]
  },
  {
   "cell_type": "code",
   "execution_count": 15,
   "id": "893c17fb",
   "metadata": {},
   "outputs": [],
   "source": [
    "def get_ginfo(s):\n",
    "    parts = s.strip().split(';')\n",
    "    gname = None\n",
    "    gtype = None\n",
    "    for x in parts:\n",
    "        kv_pair = x.strip().split('=')\n",
    "        if len(kv_pair) != 2: continue\n",
    "        if kv_pair[0] == 'gene_name':\n",
    "            gname = kv_pair[1]\n",
    "        elif kv_pair[0] == 'gene_biotype':\n",
    "            gtype = kv_pair[1]\n",
    "    return gname, gtype\n",
    "\n",
    "def load_gan(fn):\n",
    "    hdr = ['ctg', 'src', 'type', 'start', 'end', 'score', 'strand', 'frame', 'attributes']\n",
    "    df = pd.read_csv(fn, sep='\\t', header=None, comment='#')\n",
    "    df.columns = hdr\n",
    "    n_genes = dict()\n",
    "    gtype_tbl = dict()\n",
    "    for _, row in df.iterrows():\n",
    "        if row['type'] == 'gene':\n",
    "            gname, gtype = get_ginfo(row['attributes'])\n",
    "            if not gtype or not gname: print(f'error while loading line\\n{row}\\n'); return None\n",
    "            if gname in n_genes:\n",
    "                n_genes[gname] += 1\n",
    "            else:\n",
    "                n_genes[gname] = 1\n",
    "            if gname in gtype_tbl:\n",
    "                assert gtype_tbl[gname] == gtype\n",
    "            else:\n",
    "                gtype_tbl[gname] = gtype\n",
    "    return n_genes, gtype_tbl\n",
    "\n",
    "def write_gtype2file(fn, gtype_tbl) -> None:\n",
    "    with open(fn, 'w') as fh:\n",
    "        fh.write('gene_name,gene_biotype\\n')\n",
    "        for gname in gtype_tbl:\n",
    "            fh.write(f'{gname},{gtype_tbl[gname]}\\n')\n",
    "\n",
    "def write_n_genes2file(fn, n_genes) -> None:\n",
    "    with open(fn, 'w') as fh:\n",
    "        fh.write('gene_name,n\\n')\n",
    "        for gname in n_genes:\n",
    "            fh.write(f'{gname},{n_genes[gname]}\\n')\n",
    "\n",
    "def count_mat_and_pat(mat_n_genes, pat_n_genes) -> dict:\n",
    "    n_genes = dict()\n",
    "    gnames = set(mat_n_genes.keys()) | set(pat_n_genes.keys())\n",
    "    for gname in gnames:\n",
    "        mat_n = mat_n_genes[gname] if gname in mat_n_genes else 0\n",
    "        pat_n = pat_n_genes[gname] if gname in pat_n_genes else 0\n",
    "        n_genes[gname] = max(mat_n, pat_n)\n",
    "    return n_genes"
   ]
  },
  {
   "cell_type": "code",
   "execution_count": 4,
   "id": "e363e8b3",
   "metadata": {},
   "outputs": [],
   "source": [
    "mat_n_genes, mat_gtype_tbl = load_gan(\"/ccb/salz4-3/hji20/hg002-q100-annotation/results/6_add_copies/mat_loff/fmted.modified.gff\")"
   ]
  },
  {
   "cell_type": "code",
   "execution_count": 6,
   "id": "4efe7b65",
   "metadata": {},
   "outputs": [],
   "source": [
    "write_gtype2file(\"/ccb/salz4-3/hji20/hg002-q100-annotation/results/6_add_copies/mat_loff/gtypes.csv\", mat_gtype_tbl)\n",
    "write_n_genes2file(\"/ccb/salz4-3/hji20/hg002-q100-annotation/results/6_add_copies/mat_loff/n_genes.csv\", mat_n_genes)"
   ]
  },
  {
   "cell_type": "code",
   "execution_count": 7,
   "id": "fccd5992",
   "metadata": {},
   "outputs": [],
   "source": [
    "pat_n_genes, pat_gtype_tbl = load_gan(\"/ccb/salz4-3/hji20/hg002-q100-annotation/results/6_add_copies/pat_loff/fmted.modified.gff\")"
   ]
  },
  {
   "cell_type": "code",
   "execution_count": 8,
   "id": "01070eae",
   "metadata": {},
   "outputs": [],
   "source": [
    "write_gtype2file(\"/ccb/salz4-3/hji20/hg002-q100-annotation/results/6_add_copies/pat_loff/gtypes.csv\", pat_gtype_tbl)\n",
    "write_n_genes2file(\"/ccb/salz4-3/hji20/hg002-q100-annotation/results/6_add_copies/pat_loff/n_genes.csv\", pat_n_genes)"
   ]
  },
  {
   "cell_type": "code",
   "execution_count": null,
   "id": "3333f150",
   "metadata": {},
   "outputs": [],
   "source": [
    "union_n_genes = count_mat_and_pat(mat_n_genes, pat_n_genes)"
   ]
  },
  {
   "cell_type": "code",
   "execution_count": 14,
   "id": "9d98c620",
   "metadata": {},
   "outputs": [
    {
     "data": {
      "text/plain": [
       "60964"
      ]
     },
     "execution_count": 14,
     "metadata": {},
     "output_type": "execute_result"
    }
   ],
   "source": [
    "sum(union_n_genes.values())"
   ]
  },
  {
   "cell_type": "code",
   "execution_count": 16,
   "id": "7d996859",
   "metadata": {},
   "outputs": [],
   "source": [
    "n_genes_by_gtype = dict()\n",
    "for gname in union_n_genes:\n",
    "    gtype = None\n",
    "    if gname in mat_gtype_tbl:\n",
    "        gtype = mat_gtype_tbl[gname]\n",
    "    else:\n",
    "        if gname in pat_gtype_tbl:\n",
    "            gtype = pat_gtype_tbl[gname]\n",
    "    if not gtype: print(f\"error while looking up gene biotype for gene {gname}\")\n",
    "    if gtype not in n_genes_by_gtype:\n",
    "        n_genes_by_gtype[gtype] = union_n_genes[gname]\n",
    "    else:\n",
    "        n_genes_by_gtype[gtype] += union_n_genes[gname]"
   ]
  },
  {
   "cell_type": "code",
   "execution_count": 18,
   "id": "55ebd8e8",
   "metadata": {},
   "outputs": [],
   "source": [
    "fn = \"/ccb/salz4-3/hji20/hg002-q100-annotation/results/6_add_copies/mat+pat_n_genes_by_gtype.csv\"\n",
    "with open(fn, 'w') as fh:\n",
    "    fh.write('gene_biotype,n\\n')\n",
    "    for gtype in n_genes_by_gtype:\n",
    "        fh.write(f'{gtype},{n_genes_by_gtype[gtype]}\\n')"
   ]
  }
 ],
 "metadata": {
  "kernelspec": {
   "display_name": "Python [conda env:hg002] *",
   "language": "python",
   "name": "conda-env-hg002-py"
  }
 },
 "nbformat": 4,
 "nbformat_minor": 5
}
